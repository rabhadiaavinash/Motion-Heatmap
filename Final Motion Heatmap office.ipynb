{
 "cells": [
  {
   "cell_type": "code",
   "execution_count": null,
   "metadata": {
    "id": "sxOZeVNjBB02"
   },
   "outputs": [],
   "source": []
  },
  {
   "cell_type": "code",
   "execution_count": null,
   "metadata": {
    "id": "sKZ55OU0BHtA"
   },
   "outputs": [],
   "source": []
  },
  {
   "cell_type": "code",
   "execution_count": 1,
   "metadata": {
    "id": "P97hBSNKBHw5"
   },
   "outputs": [],
   "source": [
    "import numpy as np\n",
    "import cv2\n",
    "import copy\n",
    "\n"
   ]
  },
  {
   "cell_type": "code",
   "execution_count": 2,
   "metadata": {
    "colab": {
     "base_uri": "https://localhost:8080/"
    },
    "executionInfo": {
     "elapsed": 34275,
     "status": "ok",
     "timestamp": 1635755781629,
     "user": {
      "displayName": "Avinash Rabhadia",
      "photoUrl": "https://lh3.googleusercontent.com/a-/AOh14GgwVxahW5tT7B5dOnCica0H9_dU3FA2FVg5b5SW=s64",
      "userId": "12059130512910962640"
     },
     "user_tz": -330
    },
    "id": "-bsBC09eBHzm",
    "outputId": "c516c28a-886d-43ca-904f-07fdfc9aa71b"
   },
   "outputs": [],
   "source": [
    "#from google.colab import drive\n",
    "#drive.mount('/content/drive')"
   ]
  },
  {
   "cell_type": "code",
   "execution_count": null,
   "metadata": {
    "id": "jIhK2HbYBX8z"
   },
   "outputs": [],
   "source": []
  },
  {
   "cell_type": "code",
   "execution_count": 47,
   "metadata": {
    "id": "7gdq1DJdBH2M"
   },
   "outputs": [],
   "source": [
    "\n",
    "cap = cv2.VideoCapture('input.mp4')\n",
    "cap2 =cv2.VideoCapture('input.mp4')\n",
    "cap3 =cv2.VideoCapture('input.mp4')\n",
    "cap4 =cv2.VideoCapture('input.mp4')"
   ]
  },
  {
   "cell_type": "code",
   "execution_count": 48,
   "metadata": {
    "id": "MNWffGKaBH41"
   },
   "outputs": [],
   "source": [
    "if (cap.isOpened()== False): \n",
    "  print(\"Error opening video stream or file\")\n",
    "if (cap2.isOpened()== False): \n",
    "  print(\"Error opening video stream or file\")\n",
    "if (cap3.isOpened()== False): \n",
    "  print(\"Error opening video stream or file\")\n",
    "if (cap4.isOpened()== False): \n",
    "  print(\"Error opening video stream or file\")    "
   ]
  },
  {
   "cell_type": "code",
   "execution_count": 49,
   "metadata": {
    "id": "LSDuBUgIsDi1"
   },
   "outputs": [],
   "source": [
    "first_iteration_indicator = 1\n",
    "background_subtractor = cv2.bgsegm.createBackgroundSubtractorMOG()\n",
    "i = 0"
   ]
  },
  {
   "cell_type": "code",
   "execution_count": 50,
   "metadata": {
    "id": "9UIgZF5dBH-S"
   },
   "outputs": [],
   "source": [
    "while(cap.isOpened() & cap2.isOpened() & cap3.isOpened() & cap4.isOpened()):\n",
    "  # Capture frame-by-frame\n",
    "  ret, frame = cap.read()\n",
    "  ret, frame1 = cap2.read()\n",
    "  ret, frame2 = cap3.read()\n",
    "  ret, frame3 = cap4.read()\n",
    "  \n",
    "  \n",
    "  if ret == True:\n",
    "    # Display the resulting frame\n",
    "    \n",
    "    final1 = np.hstack([frame,frame1])\n",
    "    final2 = np.hstack([frame2,frame3])\n",
    "    \n",
    "    final = np.vstack([final1,final2])\n",
    "\n",
    "    #cv2.imwrite(\"final_stack.jpg\",final)\n",
    "    frame_main = final\n",
    "\n",
    "    # If first frame\n",
    "    if first_iteration_indicator == 1:\n",
    "      first_frame = copy.deepcopy(frame_main)\n",
    "      height, width = frame_main.shape[:2]\n",
    "      accum_image = np.zeros((height, width), np.uint8)\n",
    "      first_iteration_indicator = 0\n",
    "    else:\n",
    "      filter = background_subtractor.apply(frame_main)  # remove the background\n",
    "      \n",
    "      #cv2.imwrite('diff-bkgnd-frame2.jpg', filter)\n",
    "\n",
    "      threshold = 2\n",
    "      maxValue = 2\n",
    "      ret, th1 = cv2.threshold(filter, threshold, maxValue, cv2.THRESH_BINARY)\n",
    "\n",
    "      # add to the accumulated image\n",
    "      accum_image = cv2.add(accum_image, th1)\n",
    "      #cv2.imwrite('mask3.jpg', accum_image)\n",
    "\n",
    "      # color map applied to mask\n",
    "      #color_image_video = cv2.applyColorMap(accum_image, cv2.COLORMAP_SUMMER)\n",
    "      color_image_video = cv2.applyColorMap(accum_image, cv2.COLORMAP_HOT)\n",
    "      video_frame = cv2.addWeighted(frame_main, 0.7, color_image_video, 0.7, 0)\n",
    "      \n",
    "      cv2.putText(video_frame,\"Camera 1\",(10,50),cv2.FONT_HERSHEY_SIMPLEX,2, (0,255,255) ,3)\n",
    "      cv2.putText(video_frame,\"Camera 2\",(2000,50),cv2.FONT_HERSHEY_SIMPLEX,2, (0,255,255),3 )\n",
    "      cv2.putText(video_frame,\"Camera 3\",(10,1200),cv2.FONT_HERSHEY_SIMPLEX,2, (0,255,255),3 )\n",
    "      cv2.putText(video_frame,\"Camera 4\",(2000,1200),cv2.FONT_HERSHEY_SIMPLEX,2, (0,255,255),3 )\n",
    "\n",
    "      name = \"frame%d.jpg\" % i\n",
    "      #cv2.imwrite(name, video_frame)\n",
    "      i+=1\n",
    "      \n",
    "      #cv2_imshow(video_frame) \n",
    "      cv2.namedWindow(\"video\",cv2.WINDOW_NORMAL)  \n",
    "      cv2.imshow(\"video\",video_frame)   \n",
    "      if cv2.waitKey(1) & 0xFF == ord('q'):\n",
    "        break\n",
    "\n",
    "\n",
    "\n",
    "\n",
    "\n",
    "\n",
    "cap.release()\n",
    "cap2.release()\n",
    "cap3.release()\n",
    "cap4.release()\n",
    "\n",
    "cv2.destroyAllWindows()     "
   ]
  },
  {
   "cell_type": "code",
   "execution_count": null,
   "metadata": {},
   "outputs": [],
   "source": []
  }
 ],
 "metadata": {
  "colab": {
   "authorship_tag": "ABX9TyNCYYbLovG42RIUnyxHrcDe",
   "collapsed_sections": [],
   "name": "Final Motion Heatmap office.ipynb",
   "provenance": []
  },
  "kernelspec": {
   "display_name": "Python 3",
   "language": "python",
   "name": "python3"
  },
  "language_info": {
   "codemirror_mode": {
    "name": "ipython",
    "version": 3
   },
   "file_extension": ".py",
   "mimetype": "text/x-python",
   "name": "python",
   "nbconvert_exporter": "python",
   "pygments_lexer": "ipython3",
   "version": "3.8.3"
  }
 },
 "nbformat": 4,
 "nbformat_minor": 1
}
